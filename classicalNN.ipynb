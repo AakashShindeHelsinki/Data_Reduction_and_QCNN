{
 "cells": [
  {
   "cell_type": "code",
   "execution_count": 1,
   "id": "d99ce99c",
   "metadata": {},
   "outputs": [],
   "source": [
    "import torch\n",
    "import torch.nn as nn\n",
    "import torch.nn.functional as F\n",
    "\n",
    "from torch.utils.data import TensorDataset, DataLoader\n",
    "from data import data_load_and_process\n",
    "from sklearn.metrics import accuracy_score, precision_score, recall_score, f1_score\n",
    "from torchsummary import summary"
   ]
  },
  {
   "cell_type": "code",
   "execution_count": 2,
   "id": "c96cdb8e",
   "metadata": {},
   "outputs": [],
   "source": [
    "class SimpleCNN(nn.Module):\n",
    "    def __init__(self, input_channels=1):\n",
    "        super(SimpleCNN, self).__init__()\n",
    "        self.conv1 = nn.Conv1d(input_channels, 16, kernel_size=3, padding=1)\n",
    "        self.conv2 = nn.Conv1d(16, 32, kernel_size=3, padding=1)\n",
    "        self.pool = nn.AdaptiveAvgPool1d(1)  # Output size (batch, 32, 1)\n",
    "        self.fc = nn.Linear(32, 1)\n",
    "\n",
    "    def forward(self, x):\n",
    "        # x shape: (batch, channels, length)\n",
    "        x = F.relu(self.conv1(x))\n",
    "        x = F.relu(self.conv2(x))\n",
    "        x = self.pool(x)\n",
    "        x = x.view(x.size(0), -1)  # Flatten\n",
    "        x = self.fc(x)\n",
    "        x = torch.sigmoid(x)\n",
    "        return x\n"
   ]
  },
  {
   "cell_type": "code",
   "execution_count": 3,
   "id": "bc9e6e18",
   "metadata": {},
   "outputs": [
    {
     "name": "stdout",
     "output_type": "stream",
     "text": [
      "----------------------------------------------------------------\n",
      "        Layer (type)               Output Shape         Param #\n",
      "================================================================\n",
      "            Conv1d-1               [-1, 16, 10]              64\n",
      "            Conv1d-2               [-1, 32, 10]           1,568\n",
      " AdaptiveAvgPool1d-3                [-1, 32, 1]               0\n",
      "            Linear-4                    [-1, 1]              33\n",
      "================================================================\n",
      "Total params: 1,665\n",
      "Trainable params: 1,665\n",
      "Non-trainable params: 0\n",
      "----------------------------------------------------------------\n",
      "Input size (MB): 0.00\n",
      "Forward/backward pass size (MB): 0.00\n",
      "Params size (MB): 0.01\n",
      "Estimated Total Size (MB): 0.01\n",
      "----------------------------------------------------------------\n"
     ]
    }
   ],
   "source": [
    "\n",
    "model = SimpleCNN(input_channels=1)  # or 3\n",
    "summary(model, (1,10))  # or (3, 4, 4)"
   ]
  },
  {
   "cell_type": "code",
   "execution_count": 16,
   "id": "785cb08a",
   "metadata": {},
   "outputs": [
    {
     "name": "stdout",
     "output_type": "stream",
     "text": [
      "4000\n"
     ]
    }
   ],
   "source": [
    "\n",
    "\n",
    "# Get data from data.py (choose your generator and reduction method)\n",
    "# Example: 4x4 pseudo-image data, no reduction, 3 channels (change as needed)\n",
    "q_num = 8 # Number of features/channels for reduction (set as needed)\n",
    "X_train, Y_train, X_test, Y_test, DataID = data_load_and_process(\n",
    "    q_num=q_num,\n",
    "    data_gen='4x4_img_data',   # or 'sklearn_make_class', 'capital1_synthetic_data', '4x4_img_data'\n",
    "    data_redu='tsne'        # or 'pca', 'autoencode', 'svd', 'tsne', 'no_redu'\n",
    ")\n",
    "\n",
    "print(len(X_train))\n",
    "# Convert to torch tensors and reshape for 1D CNN\n",
    "X_train = torch.tensor(X_train, dtype=torch.float32)\n",
    "Y_train = torch.tensor(Y_train, dtype=torch.float32)\n",
    "\n",
    "if X_train.ndim == 2:\n",
    "    # (N, L) -> (N, 1, L)\n",
    "    X_train = X_train.unsqueeze(1)\n",
    "    input_channels = 1\n",
    "elif X_train.ndim == 3:\n",
    "    # (N, C, L)\n",
    "    input_channels = X_train.shape[1]\n",
    "elif X_train.ndim == 4:\n",
    "    # (N, C, H, W) -> (N, C, H*W)\n",
    "    N, C, H, W = X_train.shape\n",
    "    X_train = X_train.view(N, C, H * W)\n",
    "    input_channels = C\n",
    "\n",
    "train_dataset = TensorDataset(X_train, Y_train)\n",
    "train_loader = DataLoader(train_dataset, batch_size=32, shuffle=True)\n",
    "\n",
    "# Now you can use train_loader in your training loop\n"
   ]
  },
  {
   "cell_type": "code",
   "execution_count": 17,
   "id": "015ec07c",
   "metadata": {},
   "outputs": [
    {
     "name": "stdout",
     "output_type": "stream",
     "text": [
      "Epoch 1/10, Loss: 0.6621\n",
      "Epoch 2/10, Loss: 0.6246\n",
      "Epoch 3/10, Loss: 0.5339\n",
      "Epoch 4/10, Loss: 0.5169\n",
      "Epoch 5/10, Loss: 0.4397\n",
      "Epoch 6/10, Loss: 0.3665\n",
      "Epoch 7/10, Loss: 0.3003\n",
      "Epoch 8/10, Loss: 0.1569\n",
      "Epoch 9/10, Loss: 0.2753\n",
      "Epoch 10/10, Loss: 0.2215\n"
     ]
    }
   ],
   "source": [
    "# Hyperparameters\n",
    "epochs = 10\n",
    "device = torch.device(\"cuda\" if torch.cuda.is_available() else \"cpu\")\n",
    "\n",
    "model = SimpleCNN(input_channels=input_channels).to(device)\n",
    "optimizer = torch.optim.Adam(model.parameters(), lr=1e-3)\n",
    "criterion = nn.BCELoss()\n",
    "\n",
    "for epoch in range(epochs):\n",
    "    model.train()\n",
    "    for images, labels in train_loader:\n",
    "        images, labels = images.to(device), labels.float().to(device).view(-1, 1)\n",
    "        optimizer.zero_grad()\n",
    "        outputs = model(images)\n",
    "        loss = criterion(outputs, labels)\n",
    "        loss.backward()\n",
    "        optimizer.step()\n",
    "    print(f\"Epoch {epoch+1}/{epochs}, Loss: {loss.item():.4f}\")\n"
   ]
  },
  {
   "cell_type": "code",
   "execution_count": 18,
   "id": "2fbda7b0",
   "metadata": {},
   "outputs": [
    {
     "name": "stdout",
     "output_type": "stream",
     "text": [
      "Test Accuracy: 0.5330\n",
      "Test Precision: 0.5263\n",
      "Test Recall: 0.5274\n",
      "Test F1 Score: 0.5268\n"
     ]
    }
   ],
   "source": [
    "# Prepare test DataLoader\n",
    "X_test = torch.tensor(X_test, dtype=torch.float32)\n",
    "Y_test = torch.tensor(Y_test, dtype=torch.float32)\n",
    "if X_test.ndim == 2:\n",
    "    input_channels = 1\n",
    "    length = X_test.shape[1]\n",
    "    X_test = X_test.view(-1, input_channels, length)\n",
    "test_dataset = TensorDataset(X_test, Y_test)\n",
    "test_loader = DataLoader(test_dataset, batch_size=32, shuffle=False)\n",
    "\n",
    "model.eval()\n",
    "all_preds = []\n",
    "all_labels = []\n",
    "with torch.no_grad():\n",
    "    for images, labels in test_loader:\n",
    "        images = images.to(device)\n",
    "        outputs = model(images)\n",
    "        preds = (outputs > 0.5).int().cpu().numpy().flatten()\n",
    "        all_preds.extend(preds)\n",
    "        all_labels.extend(labels.cpu().numpy().flatten())\n",
    "\n",
    "accuracy = accuracy_score(all_labels, all_preds)\n",
    "precision = precision_score(all_labels, all_preds)\n",
    "recall = recall_score(all_labels, all_preds)\n",
    "f1 = f1_score(all_labels, all_preds)\n",
    "\n",
    "print(f\"Test Accuracy: {accuracy:.4f}\")\n",
    "print(f\"Test Precision: {precision:.4f}\")\n",
    "print(f\"Test Recall: {recall:.4f}\")\n",
    "print(f\"Test F1 Score: {f1:.4f}\")"
   ]
  }
 ],
 "metadata": {
  "kernelspec": {
   "display_name": "base",
   "language": "python",
   "name": "python3"
  },
  "language_info": {
   "codemirror_mode": {
    "name": "ipython",
    "version": 3
   },
   "file_extension": ".py",
   "mimetype": "text/x-python",
   "name": "python",
   "nbconvert_exporter": "python",
   "pygments_lexer": "ipython3",
   "version": "3.11.11"
  }
 },
 "nbformat": 4,
 "nbformat_minor": 5
}
